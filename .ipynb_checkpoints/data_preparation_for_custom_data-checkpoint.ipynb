{
 "cells": [
  {
   "cell_type": "code",
   "execution_count": 1,
   "id": "9f3522de",
   "metadata": {},
   "outputs": [],
   "source": [
    "import torch\n",
    "import torchvision\n",
    "\n",
    "# Note: Required to have PyTorch > 1.11.0 & torchvision > 0.12.0 for Food101 dataset\n",
    "#assert int(torch.__version__.split(\".\")[1]) >= 11\n",
    "#assert int(torchvision.__version__.split(\".\")[1]) >= 11\n",
    "\n",
    "import torchvision.datasets as datasets\n",
    "import torchvision.transforms as transforms\n",
    "\n",
    "# Setup data directory\n",
    "import pathlib\n",
    "data_dir = pathlib.Path(\"data\")"
   ]
  },
  {
   "cell_type": "code",
   "execution_count": null,
   "id": "1d45be0d",
   "metadata": {},
   "outputs": [],
   "source": [
    "# Get training data\n",
    "train_data = datasets.Food101(root=data_dir,\n",
    "                              split=\"train\",\n",
    "                              # transform=transforms.ToTensor(),\n",
    "                              download=True)\n",
    "\n",
    "# Get testing data\n",
    "test_data = datasets.Food101(root=data_dir,\n",
    "                             split=\"test\",\n",
    "                             # transform=transforms.ToTensor(),\n",
    "                             download=True)\n"
   ]
  },
  {
   "cell_type": "code",
   "execution_count": null,
   "id": "eacd9e6f",
   "metadata": {},
   "outputs": [],
   "source": [
    "datasets.Food101"
   ]
  },
  {
   "cell_type": "code",
   "execution_count": 8,
   "id": "94d24052",
   "metadata": {},
   "outputs": [
    {
     "data": {
      "text/plain": [
       "'0.11.1+cu102'"
      ]
     },
     "execution_count": 8,
     "metadata": {},
     "output_type": "execute_result"
    }
   ],
   "source": [
    "torchvision.__version__"
   ]
  },
  {
   "cell_type": "code",
   "execution_count": 7,
   "id": "2c894ecc",
   "metadata": {},
   "outputs": [
    {
     "name": "stdout",
     "output_type": "stream",
     "text": [
      "Collecting torchvision\n",
      "  Using cached torchvision-0.14.0-cp37-cp37m-manylinux1_x86_64.whl (24.3 MB)\n",
      "Requirement already satisfied: requests in /home/sagarnildass/anaconda3/envs/voice_cloning/lib/python3.7/site-packages (from torchvision) (2.25.1)\n",
      "Requirement already satisfied: typing-extensions in /home/sagarnildass/anaconda3/envs/voice_cloning/lib/python3.7/site-packages (from torchvision) (3.7.4.3)\n",
      "Requirement already satisfied: pillow!=8.3.*,>=5.3.0 in /home/sagarnildass/anaconda3/envs/voice_cloning/lib/python3.7/site-packages (from torchvision) (8.0.1)\n",
      "Requirement already satisfied: torch==1.13.0 in /home/sagarnildass/anaconda3/envs/voice_cloning/lib/python3.7/site-packages (from torchvision) (1.13.0)\n",
      "Requirement already satisfied: numpy in /home/sagarnildass/anaconda3/envs/voice_cloning/lib/python3.7/site-packages (from torchvision) (1.19.2)\n",
      "Requirement already satisfied: nvidia-cublas-cu11==11.10.3.66 in /home/sagarnildass/anaconda3/envs/voice_cloning/lib/python3.7/site-packages (from torch==1.13.0->torchvision) (11.10.3.66)\n",
      "Requirement already satisfied: nvidia-cuda-nvrtc-cu11==11.7.99 in /home/sagarnildass/anaconda3/envs/voice_cloning/lib/python3.7/site-packages (from torch==1.13.0->torchvision) (11.7.99)\n",
      "Requirement already satisfied: nvidia-cuda-runtime-cu11==11.7.99 in /home/sagarnildass/anaconda3/envs/voice_cloning/lib/python3.7/site-packages (from torch==1.13.0->torchvision) (11.7.99)\n",
      "Requirement already satisfied: nvidia-cudnn-cu11==8.5.0.96 in /home/sagarnildass/anaconda3/envs/voice_cloning/lib/python3.7/site-packages (from torch==1.13.0->torchvision) (8.5.0.96)\n",
      "Requirement already satisfied: setuptools in /home/sagarnildass/anaconda3/envs/voice_cloning/lib/python3.7/site-packages (from nvidia-cublas-cu11==11.10.3.66->torch==1.13.0->torchvision) (51.0.0.post20201207)\n",
      "Requirement already satisfied: wheel in /home/sagarnildass/anaconda3/envs/voice_cloning/lib/python3.7/site-packages (from nvidia-cublas-cu11==11.10.3.66->torch==1.13.0->torchvision) (0.36.2)\n",
      "Requirement already satisfied: idna<3,>=2.5 in /home/sagarnildass/anaconda3/envs/voice_cloning/lib/python3.7/site-packages (from requests->torchvision) (2.10)\n",
      "Requirement already satisfied: certifi>=2017.4.17 in /home/sagarnildass/anaconda3/envs/voice_cloning/lib/python3.7/site-packages (from requests->torchvision) (2020.12.5)\n",
      "Requirement already satisfied: chardet<5,>=3.0.2 in /home/sagarnildass/anaconda3/envs/voice_cloning/lib/python3.7/site-packages (from requests->torchvision) (4.0.0)\n",
      "Requirement already satisfied: urllib3<1.27,>=1.21.1 in /home/sagarnildass/anaconda3/envs/voice_cloning/lib/python3.7/site-packages (from requests->torchvision) (1.26.2)\n",
      "Installing collected packages: torchvision\n",
      "Successfully installed torchvision-0.14.0\n"
     ]
    }
   ],
   "source": [
    "!pip install  torchvision "
   ]
  },
  {
   "cell_type": "code",
   "execution_count": null,
   "id": "9a65b5b0",
   "metadata": {},
   "outputs": [],
   "source": []
  }
 ],
 "metadata": {
  "kernelspec": {
   "display_name": "voice_cloning",
   "language": "python",
   "name": "voice_cloning"
  },
  "language_info": {
   "codemirror_mode": {
    "name": "ipython",
    "version": 3
   },
   "file_extension": ".py",
   "mimetype": "text/x-python",
   "name": "python",
   "nbconvert_exporter": "python",
   "pygments_lexer": "ipython3",
   "version": "3.8.3"
  }
 },
 "nbformat": 4,
 "nbformat_minor": 5
}

{
 "cells": [
  {
   "cell_type": "code",
   "execution_count": null,
   "id": "9f3522de",
   "metadata": {},
   "outputs": [],
   "source": [
    "import torch\n",
    "import torchvision\n",
    "\n",
    "# Note: Required to have PyTorch > 1.11.0 & torchvision > 0.12.0 for Food101 dataset\n",
    "assert int(torch.__version__.split(\".\")[1]) >= 11\n",
    "assert int(torchvision.__version__.split(\".\")[1]) >= 11\n",
    "\n",
    "import torchvision.datasets as datasets\n",
    "import torchvision.transforms as transforms\n",
    "\n",
    "# Setup data directory\n",
    "import pathlib\n",
    "data_dir = pathlib.Path(\"data\")"
   ]
  },
  {
   "cell_type": "code",
   "execution_count": null,
   "id": "1d45be0d",
   "metadata": {},
   "outputs": [],
   "source": [
    "# Get training data\n",
    "train_data = datasets.Food101(root=data_dir,\n",
    "                              split=\"train\",\n",
    "                              # transform=transforms.ToTensor(),\n",
    "                              download=True)\n",
    "\n",
    "# Get testing data\n",
    "test_data = datasets.Food101(root=data_dir,\n",
    "                             split=\"test\",\n",
    "                             # transform=transforms.ToTensor(),\n",
    "                             download=True)\n"
   ]
  },
  {
   "cell_type": "code",
   "execution_count": null,
   "id": "9a65b5b0",
   "metadata": {},
   "outputs": [],
   "source": [
    "torch.__version__"
   ]
  },
  {
   "cell_type": "code",
   "execution_count": null,
   "id": "a76e548d",
   "metadata": {},
   "outputs": [],
   "source": []
  }
 ],
 "metadata": {
  "kernelspec": {
   "display_name": "voice_cloning",
   "language": "python",
   "name": "voice_cloning"
  },
  "language_info": {
   "codemirror_mode": {
    "name": "ipython",
    "version": 3
   },
   "file_extension": ".py",
   "mimetype": "text/x-python",
   "name": "python",
   "nbconvert_exporter": "python",
   "pygments_lexer": "ipython3",
   "version": "3.8.3"
  }
 },
 "nbformat": 4,
 "nbformat_minor": 5
}
